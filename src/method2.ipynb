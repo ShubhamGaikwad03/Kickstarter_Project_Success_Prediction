{
 "cells": [
  {
   "cell_type": "code",
   "execution_count": 1,
   "id": "d223e42e",
   "metadata": {},
   "outputs": [],
   "source": [
    "import pandas as pd\n",
    "import numpy as np\n",
    "import matplotlib.pyplot as plt\n",
    "import seaborn as sns\n",
    "from sklearn.model_selection import train_test_split\n",
    "import warnings\n",
    "from sklearn import svm\n",
    "from sklearn.model_selection import train_test_split\n",
    "from sklearn.datasets import make_classification\n",
    "from sklearn.cluster import KMeans\n",
    "from sklearn.preprocessing import OrdinalEncoder\n",
    "from sklearn.neighbors import KNeighborsClassifier\n",
    "from sklearn.metrics import classification_report\n",
    "from sklearn.ensemble import RandomForestClassifier\n",
    "from sklearn.feature_selection import RFE\n",
    "from sklearn.linear_model import LogisticRegression\n",
    "from sklearn.model_selection import cross_val_score\n",
    "from sklearn.model_selection import KFold\n",
    "from sklearn.metrics import accuracy_score, precision_score, recall_score, f1_score\n",
    "\n",
    "# Ignore all warnings\n",
    "warnings.filterwarnings(\"ignore\")"
   ]
  },
  {
   "cell_type": "code",
   "execution_count": 2,
   "id": "c2661bf4",
   "metadata": {},
   "outputs": [
    {
     "data": {
      "text/html": [
       "<div>\n",
       "<style scoped>\n",
       "    .dataframe tbody tr th:only-of-type {\n",
       "        vertical-align: middle;\n",
       "    }\n",
       "\n",
       "    .dataframe tbody tr th {\n",
       "        vertical-align: top;\n",
       "    }\n",
       "\n",
       "    .dataframe thead th {\n",
       "        text-align: right;\n",
       "    }\n",
       "</style>\n",
       "<table border=\"1\" class=\"dataframe\">\n",
       "  <thead>\n",
       "    <tr style=\"text-align: right;\">\n",
       "      <th></th>\n",
       "      <th>Unnamed: 0</th>\n",
       "      <th>id</th>\n",
       "      <th>photo</th>\n",
       "      <th>name</th>\n",
       "      <th>blurb</th>\n",
       "      <th>goal</th>\n",
       "      <th>pledged</th>\n",
       "      <th>state</th>\n",
       "      <th>slug</th>\n",
       "      <th>disable_communication</th>\n",
       "      <th>...</th>\n",
       "      <th>launch_to_deadline</th>\n",
       "      <th>launch_to_state_change</th>\n",
       "      <th>create_to_launch_days</th>\n",
       "      <th>launch_to_deadline_days</th>\n",
       "      <th>launch_to_state_change_days</th>\n",
       "      <th>SuccessfulBool</th>\n",
       "      <th>USorGB</th>\n",
       "      <th>TOPCOUNTRY</th>\n",
       "      <th>LaunchedTuesday</th>\n",
       "      <th>DeadlineWeekend</th>\n",
       "    </tr>\n",
       "  </thead>\n",
       "  <tbody>\n",
       "    <tr>\n",
       "      <th>0</th>\n",
       "      <td>0</td>\n",
       "      <td>1454391034</td>\n",
       "      <td>{\"small\":\"https://ksr-ugc.imgix.net/assets/011...</td>\n",
       "      <td>Auntie Di's Music Time Sign ASL for Hearing an...</td>\n",
       "      <td>MTS ASL Curriculum Workbook is a reproducible ...</td>\n",
       "      <td>1500.0</td>\n",
       "      <td>0.0</td>\n",
       "      <td>failed</td>\n",
       "      <td>auntie-dis-music-time-sign-asl-for-hearing-and...</td>\n",
       "      <td>False</td>\n",
       "      <td>...</td>\n",
       "      <td>36 days 20:47:24.000000000</td>\n",
       "      <td>36 days 20:47:24.000000000</td>\n",
       "      <td>17</td>\n",
       "      <td>36</td>\n",
       "      <td>36</td>\n",
       "      <td>0</td>\n",
       "      <td>1</td>\n",
       "      <td>1</td>\n",
       "      <td>0</td>\n",
       "      <td>0</td>\n",
       "    </tr>\n",
       "    <tr>\n",
       "      <th>1</th>\n",
       "      <td>1</td>\n",
       "      <td>1655206086</td>\n",
       "      <td>{\"small\":\"https://ksr-ugc.imgix.net/assets/012...</td>\n",
       "      <td>Jump Start Kindergarten Toolkit</td>\n",
       "      <td>This kit teaches how to print, correct an ugly...</td>\n",
       "      <td>500.0</td>\n",
       "      <td>0.0</td>\n",
       "      <td>failed</td>\n",
       "      <td>jump-start-kindergarten-toolkit</td>\n",
       "      <td>False</td>\n",
       "      <td>...</td>\n",
       "      <td>60 days 00:00:00.000000000</td>\n",
       "      <td>60 days 00:00:02.000000000</td>\n",
       "      <td>10</td>\n",
       "      <td>60</td>\n",
       "      <td>60</td>\n",
       "      <td>0</td>\n",
       "      <td>1</td>\n",
       "      <td>1</td>\n",
       "      <td>0</td>\n",
       "      <td>0</td>\n",
       "    </tr>\n",
       "    <tr>\n",
       "      <th>2</th>\n",
       "      <td>2</td>\n",
       "      <td>311581827</td>\n",
       "      <td>{\"small\":\"https://ksr-ugc.imgix.net/assets/012...</td>\n",
       "      <td>Ojukwu Balewa Awolowo (O.B.A.) Public Library ...</td>\n",
       "      <td>Establishing a free, world-class, public libra...</td>\n",
       "      <td>100000.0</td>\n",
       "      <td>120.0</td>\n",
       "      <td>failed</td>\n",
       "      <td>ojukwu-balewa-awolowo-oba-public-library-of-ni...</td>\n",
       "      <td>False</td>\n",
       "      <td>...</td>\n",
       "      <td>60 days 00:00:00.000000000</td>\n",
       "      <td>60 days 00:00:01.000000000</td>\n",
       "      <td>1</td>\n",
       "      <td>60</td>\n",
       "      <td>60</td>\n",
       "      <td>0</td>\n",
       "      <td>1</td>\n",
       "      <td>1</td>\n",
       "      <td>0</td>\n",
       "      <td>0</td>\n",
       "    </tr>\n",
       "    <tr>\n",
       "      <th>3</th>\n",
       "      <td>3</td>\n",
       "      <td>859724515</td>\n",
       "      <td>{\"small\":\"https://ksr-ugc.imgix.net/assets/011...</td>\n",
       "      <td>MASTIZE - [mas-TAHYZ, MAS-tahyz]  - to spread</td>\n",
       "      <td>Goal: Introducing a new word into the English ...</td>\n",
       "      <td>5000.0</td>\n",
       "      <td>0.0</td>\n",
       "      <td>failed</td>\n",
       "      <td>mastize-mas-tahyz-mas-tahyz-to-spread</td>\n",
       "      <td>False</td>\n",
       "      <td>...</td>\n",
       "      <td>30 days 00:00:00.000000000</td>\n",
       "      <td>30 days 00:00:00.000000000</td>\n",
       "      <td>0</td>\n",
       "      <td>30</td>\n",
       "      <td>30</td>\n",
       "      <td>0</td>\n",
       "      <td>1</td>\n",
       "      <td>1</td>\n",
       "      <td>0</td>\n",
       "      <td>0</td>\n",
       "    </tr>\n",
       "    <tr>\n",
       "      <th>4</th>\n",
       "      <td>4</td>\n",
       "      <td>1613604977</td>\n",
       "      <td>{\"small\":\"https://ksr-ugc.imgix.net/assets/012...</td>\n",
       "      <td>Synopse der EU-DSGVO - Artikel, Erwägungsgründ...</td>\n",
       "      <td>Zu den Artikeln der DSGVO sind die korrespondi...</td>\n",
       "      <td>3222.0</td>\n",
       "      <td>356.0</td>\n",
       "      <td>failed</td>\n",
       "      <td>synopse-der-eu-dsgvo-artikel-erwagungsgrunde-bdsg</td>\n",
       "      <td>False</td>\n",
       "      <td>...</td>\n",
       "      <td>32 days 06:02:33.000000000</td>\n",
       "      <td>32 days 06:02:33.000000000</td>\n",
       "      <td>0</td>\n",
       "      <td>32</td>\n",
       "      <td>32</td>\n",
       "      <td>0</td>\n",
       "      <td>0</td>\n",
       "      <td>0</td>\n",
       "      <td>0</td>\n",
       "      <td>0</td>\n",
       "    </tr>\n",
       "  </tbody>\n",
       "</table>\n",
       "<p>5 rows × 68 columns</p>\n",
       "</div>"
      ],
      "text/plain": [
       "   Unnamed: 0          id                                              photo  \\\n",
       "0           0  1454391034  {\"small\":\"https://ksr-ugc.imgix.net/assets/011...   \n",
       "1           1  1655206086  {\"small\":\"https://ksr-ugc.imgix.net/assets/012...   \n",
       "2           2   311581827  {\"small\":\"https://ksr-ugc.imgix.net/assets/012...   \n",
       "3           3   859724515  {\"small\":\"https://ksr-ugc.imgix.net/assets/011...   \n",
       "4           4  1613604977  {\"small\":\"https://ksr-ugc.imgix.net/assets/012...   \n",
       "\n",
       "                                                name  \\\n",
       "0  Auntie Di's Music Time Sign ASL for Hearing an...   \n",
       "1                    Jump Start Kindergarten Toolkit   \n",
       "2  Ojukwu Balewa Awolowo (O.B.A.) Public Library ...   \n",
       "3      MASTIZE - [mas-TAHYZ, MAS-tahyz]  - to spread   \n",
       "4  Synopse der EU-DSGVO - Artikel, Erwägungsgründ...   \n",
       "\n",
       "                                               blurb      goal  pledged  \\\n",
       "0  MTS ASL Curriculum Workbook is a reproducible ...    1500.0      0.0   \n",
       "1  This kit teaches how to print, correct an ugly...     500.0      0.0   \n",
       "2  Establishing a free, world-class, public libra...  100000.0    120.0   \n",
       "3  Goal: Introducing a new word into the English ...    5000.0      0.0   \n",
       "4  Zu den Artikeln der DSGVO sind die korrespondi...    3222.0    356.0   \n",
       "\n",
       "    state                                               slug  \\\n",
       "0  failed  auntie-dis-music-time-sign-asl-for-hearing-and...   \n",
       "1  failed                    jump-start-kindergarten-toolkit   \n",
       "2  failed  ojukwu-balewa-awolowo-oba-public-library-of-ni...   \n",
       "3  failed              mastize-mas-tahyz-mas-tahyz-to-spread   \n",
       "4  failed  synopse-der-eu-dsgvo-artikel-erwagungsgrunde-bdsg   \n",
       "\n",
       "   disable_communication  ...          launch_to_deadline  \\\n",
       "0                  False  ...  36 days 20:47:24.000000000   \n",
       "1                  False  ...  60 days 00:00:00.000000000   \n",
       "2                  False  ...  60 days 00:00:00.000000000   \n",
       "3                  False  ...  30 days 00:00:00.000000000   \n",
       "4                  False  ...  32 days 06:02:33.000000000   \n",
       "\n",
       "       launch_to_state_change create_to_launch_days  launch_to_deadline_days  \\\n",
       "0  36 days 20:47:24.000000000                    17                       36   \n",
       "1  60 days 00:00:02.000000000                    10                       60   \n",
       "2  60 days 00:00:01.000000000                     1                       60   \n",
       "3  30 days 00:00:00.000000000                     0                       30   \n",
       "4  32 days 06:02:33.000000000                     0                       32   \n",
       "\n",
       "  launch_to_state_change_days SuccessfulBool USorGB TOPCOUNTRY  \\\n",
       "0                          36              0      1          1   \n",
       "1                          60              0      1          1   \n",
       "2                          60              0      1          1   \n",
       "3                          30              0      1          1   \n",
       "4                          32              0      0          0   \n",
       "\n",
       "   LaunchedTuesday  DeadlineWeekend  \n",
       "0                0                0  \n",
       "1                0                0  \n",
       "2                0                0  \n",
       "3                0                0  \n",
       "4                0                0  \n",
       "\n",
       "[5 rows x 68 columns]"
      ]
     },
     "execution_count": 2,
     "metadata": {},
     "output_type": "execute_result"
    }
   ],
   "source": [
    "data = pd.read_csv('kickstarter_data_full.csv')\n",
    "data.head()"
   ]
  },
  {
   "cell_type": "code",
   "execution_count": 3,
   "id": "cb9796f3",
   "metadata": {},
   "outputs": [],
   "source": [
    "data['disable_communication'] = data['disable_communication'] * 1 #converts type bool to 0 for false and 1 for true\n",
    "data['staff_pick'] = data['staff_pick'] * 1 #converts type bool to 0 for false and 1 for true\n",
    "data['spotlight'] = data['spotlight'] * 1 "
   ]
  },
  {
   "cell_type": "code",
   "execution_count": 4,
   "id": "3c68c4d4",
   "metadata": {},
   "outputs": [],
   "source": [
    "state_to_num = {'failed': 0, 'canceled': 1, 'successful': 2, 'live': 3, 'suspended': 4}\n",
    "data['state'] = data['state'].map(state_to_num)"
   ]
  },
  {
   "cell_type": "code",
   "execution_count": 5,
   "id": "a4da02e2",
   "metadata": {},
   "outputs": [
    {
     "data": {
      "image/png": "[encoded data removed]",
      "text/plain": [
       "<Figure size 640x480 with 1 Axes>"
      ]
     },
     "metadata": {},
     "output_type": "display_data"
    }
   ],
   "source": [
    "sns.countplot(data['state']);\n",
    "plt.xlabel('Campaign States'); \n",
    "plt.ylabel('Count');"
   ]
  },
  {
   "cell_type": "code",
   "execution_count": 6,
   "id": "48a024c4",
   "metadata": {},
   "outputs": [
    {
     "data": {
      "image/png": "[encoded data removed]",
      "text/plain": [
       "<Figure size 640x480 with 1 Axes>"
      ]
     },
     "metadata": {},
     "output_type": "display_data"
    }
   ],
   "source": [
    "sns.countplot(data['SuccessfulBool']);\n",
    "plt.xlabel('Campaign Only Success or Failure'); \n",
    "plt.ylabel('Count');"
   ]
  },
  {
   "cell_type": "code",
   "execution_count": 7,
   "id": "88abe3d1",
   "metadata": {},
   "outputs": [
    {
     "name": "stdout",
     "output_type": "stream",
     "text": [
      "Only 29.17% of campaigns were successful.\n"
     ]
    }
   ],
   "source": [
    "print(\"Only \" \n",
    "      + str(np.round(data['SuccessfulBool'].value_counts()[1] / len(data) * 100, decimals=2)) \n",
    "      + \"% of campaigns were successful.\")"
   ]
  },
  {
   "cell_type": "markdown",
   "id": "10249368",
   "metadata": {},
   "source": [
    "<h1>Pre Processing"
   ]
  },
  {
   "cell_type": "code",
   "execution_count": 8,
   "id": "e790e0d2",
   "metadata": {},
   "outputs": [],
   "source": [
    "data.drop(columns=['Unnamed: 0', 'id','name', 'blurb','photo', 'slug', 'disable_communication', \n",
    "                 'currency_symbol', 'currency_trailing_code', 'creator', \n",
    "                 'location', 'category', 'profile', 'urls', 'source_url', \n",
    "                 'friends', 'is_starred', 'is_backing', 'permissions'], \n",
    "        inplace=True)"
   ]
  },
  {
   "cell_type": "code",
   "execution_count": 9,
   "id": "5dcd375d",
   "metadata": {},
   "outputs": [],
   "source": [
    "for column in data.columns:\n",
    "    if data[column].dtype == 'object':\n",
    "        data[column].fillna(data[column].mode()[0], inplace=True)\n",
    "    elif data[column].dtype.name == 'category':\n",
    "        data[column].fillna(data[column].mode()[0], inplace=True)\n",
    "    else:\n",
    "        data[column].fillna(data[column].mean(), inplace=True)"
   ]
  },
  {
   "cell_type": "code",
   "execution_count": 10,
   "id": "22e001ff",
   "metadata": {},
   "outputs": [],
   "source": [
    "\n",
    "data['staff_pick'] = data['staff_pick'].astype(int)\n",
    "data['spotlight'] = data['spotlight'].astype(int)\n",
    "\n",
    "# Create an instance of the OrdinalEncoder\n",
    "encoder = OrdinalEncoder()\n",
    "\n",
    "data['country'] = encoder.fit_transform(data[['country']])\n",
    "data['currency'] = encoder.fit_transform(data[['currency']])\n",
    "data['deadline_weekday'] = encoder.fit_transform(data[['deadline_weekday']])\n",
    "data['state_changed_at_weekday'] = encoder.fit_transform(data[['state_changed_at_weekday']])\n",
    "data['created_at_weekday'] = encoder.fit_transform(data[['created_at_weekday']])\n",
    "data['launched_at_weekday'] = encoder.fit_transform(data[['launched_at_weekday']])\n",
    " "
   ]
  },
  {
   "cell_type": "code",
   "execution_count": 11,
   "id": "298c069f",
   "metadata": {},
   "outputs": [],
   "source": [
    "data['deadline'] = pd.to_datetime(data['deadline']).astype('int64') * 1e-9\n",
    "data['state_changed_at'] = pd.to_datetime(data['state_changed_at']).astype('int64') * 1e-9\n",
    "data['created_at'] = pd.to_datetime(data['created_at']).astype('int64') * 1e-9\n",
    "data['launched_at'] = pd.to_datetime(data['launched_at']).astype('int64') * 1e-9\n",
    "\n",
    "data['deadline_yr'] = pd.to_datetime(data['deadline']).dt.year.astype(float)\n",
    "data['deadline_month'] = pd.to_datetime(data['deadline']).dt.month.astype(float)\n",
    "data['deadline_day'] = pd.to_datetime(data['deadline']).dt.day.astype(float)\n",
    "data['deadline_hr'] = pd.to_datetime(data['deadline']).dt.hour.astype(float)\n",
    "\n",
    "data['state_changed_at_yr'] = pd.to_datetime(data['state_changed_at']).dt.year.astype(float)\n",
    "data['state_changed_at_month'] = pd.to_datetime(data['state_changed_at']).dt.month.astype(float)\n",
    "data['state_changed_at_day'] = pd.to_datetime(data['state_changed_at']).dt.day.astype(float)\n",
    "data['state_changed_at_hr'] = pd.to_datetime(data['state_changed_at']).dt.hour.astype(float)\n",
    "\n",
    "data['created_at_yr'] = pd.to_datetime(data['created_at']).dt.year.astype(float)\n",
    "data['created_at_month'] = pd.to_datetime(data['created_at']).dt.month.astype(float)\n",
    "data['created_at_day'] = pd.to_datetime(data['created_at']).dt.day.astype(float)\n",
    "data['created_at_hr'] = pd.to_datetime(data['created_at']).dt.hour.astype(float)\n",
    "\n",
    "data['launched_at_yr'] = pd.to_datetime(data['launched_at']).dt.year.astype(float)\n",
    "data['launched_at_month'] = pd.to_datetime(data['launched_at']).dt.month.astype(float)\n",
    "data['launched_at_day'] = pd.to_datetime(data['launched_at']).dt.day.astype(float)\n",
    "data['launched_at_hr'] = pd.to_datetime(data['launched_at']).dt.hour.astype(float)\n",
    "\n",
    "data['create_to_launch'] = pd.to_timedelta(data['create_to_launch']).dt.total_seconds() / 86400.0\n",
    "data['launch_to_deadline'] = pd.to_timedelta(data['launch_to_deadline']).dt.total_seconds() / 86400.0\n",
    "data['launch_to_state_change'] = pd.to_timedelta(data['launch_to_state_change']).dt.total_seconds() / 86400.0\n",
    "\n",
    "data['create_to_launch_days'] = data['create_to_launch_days'].astype(float)\n",
    "data['launch_to_deadline_days'] = data['launch_to_deadline_days'].astype(float)\n",
    "data['launch_to_state_change_days'] = data['launch_to_state_change_days'].astype(float)"
   ]
  },
  {
   "cell_type": "code",
   "execution_count": 12,
   "id": "a530c571",
   "metadata": {},
   "outputs": [
    {
     "name": "stdout",
     "output_type": "stream",
     "text": [
      "Selected Features:\n",
      "state\n",
      "staff_pick\n",
      "static_usd_rate\n",
      "spotlight\n",
      "create_to_launch\n",
      "launch_to_state_change\n",
      "create_to_launch_days\n",
      "launch_to_state_change_days\n",
      "USorGB\n",
      "TOPCOUNTRY\n"
     ]
    }
   ],
   "source": [
    "# Define the features and target variable\n",
    "\n",
    "X = data.drop([\"deadline\", \"state_changed_at\", \"created_at\", \"launched_at\", \"name_len_clean\", \"blurb_len_clean\", \"SuccessfulBool\"], axis=1)\n",
    "y = data[\"SuccessfulBool\"]\n",
    "\n",
    "# Define the model\n",
    "model = LogisticRegression()\n",
    "\n",
    "# Define the RFE object\n",
    "rfe = RFE(estimator=model, n_features_to_select=10)\n",
    "\n",
    "# Fit the RFE object to the data\n",
    "rfe.fit(X, y)\n",
    "\n",
    "# Print the selected features\n",
    "print(\"Selected Features:\")\n",
    "for i in range(X.shape[1]):\n",
    "    if rfe.support_[i]:\n",
    "        print(X.columns[i])\n"
   ]
  },
  {
   "cell_type": "code",
   "execution_count": 12,
   "id": "ae3533cf",
   "metadata": {},
   "outputs": [],
   "source": [
    "# Set output variable\n",
    "y = data[\"SuccessfulBool\"]\n",
    "\n",
    "# Drop unnecessary columns\n",
    "# X = data[[\"state\", \"staff_pick\", \"spotlight\", \"create_to_launch\", \"launch_to_state_change\", \"create_to_launch_days\", \"launch_to_state_change_days\",\"launch_to_state_change_days\",\"USorGB\",\"TOPCOUNTRY\"]]\n",
    "X = data[[\"state\", \"staff_pick\",\"static_usd_rate\",\"spotlight\",\"create_to_launch\",\"launch_to_state_change\",\"create_to_launch_days\",\"launch_to_state_change_days\",\"USorGB\",\"TOPCOUNTRY\"]]\n",
    "\n",
    "# Split data into train and test sets\n",
    "X_train, X_test, y_train, y_test = train_test_split(X, y, test_size=0.2, stratify=y, random_state=42)"
   ]
  },
  {
   "cell_type": "code",
   "execution_count": 21,
   "id": "af4d71e2",
   "metadata": {},
   "outputs": [
    {
     "name": "stdout",
     "output_type": "stream",
     "text": [
      "Percentage of Successful : 50.00%\n",
      "Percentage of unuccessful : 50.00%\n",
      "Successful:  6018\n"
     ]
    }
   ],
   "source": [
    "# Separate the safe and risky loans\n",
    "safe_loans = data[data['SuccessfulBool'] == 0]\n",
    "risky_loans = data[data['SuccessfulBool'] == 1]\n",
    "\n",
    "# Determine the number of risky loans\n",
    "num_risky_loans = len(risky_loans)\n",
    "\n",
    "# Randomly select a subset of safe loans\n",
    "safe_loans_under = safe_loans.sample(n=num_risky_loans, random_state=42)\n",
    "\n",
    "# Concatenate the risky loans and the under-sampled safe loans\n",
    "data_balanced = pd.concat([risky_loans, safe_loans_under])\n",
    "\n",
    "# Shuffle the rows of the balanced dataset\n",
    "data_balanced = data_balanced.sample(frac=1, random_state=42)\n",
    "\n",
    "# Print out the percentage of safe and risky loans in the balanced dataset\n",
    "pct_safe_loans = len(data_balanced[data_balanced['SuccessfulBool'] == 0]) / len(data_balanced) * 100\n",
    "pct_risky_loans = len(data_balanced[data_balanced['SuccessfulBool'] == 1]) / len(data_balanced) * 100\n",
    "print(\"Percentage of Successful : {:.2f}%\".format(pct_safe_loans))\n",
    "print(\"Percentage of unuccessful : {:.2f}%\".format(pct_risky_loans))\n",
    "print(\"Successful: \", len(data_balanced[data_balanced['SuccessfulBool'] == 0]))"
   ]
  },
  {
   "cell_type": "code",
   "execution_count": 49,
   "id": "4574a124",
   "metadata": {},
   "outputs": [
    {
     "name": "stdout",
     "output_type": "stream",
     "text": [
      "(16505, 10)\n"
     ]
    }
   ],
   "source": [
    "print(X_train.shape)\n"
   ]
  },
  {
   "cell_type": "code",
   "execution_count": 29,
   "id": "60bdb3a6",
   "metadata": {},
   "outputs": [
    {
     "data": {
      "text/plain": [
       "SVC()"
      ]
     },
     "execution_count": 29,
     "metadata": {},
     "output_type": "execute_result"
    }
   ],
   "source": [
    "clf = svm.SVC(kernel='rbf')\n",
    "clf.fit(X_train, y_train)"
   ]
  },
  {
   "cell_type": "code",
   "execution_count": 30,
   "id": "5d2f4fcf",
   "metadata": {},
   "outputs": [
    {
     "name": "stdout",
     "output_type": "stream",
     "text": [
      "Accuracy: 91.35%\n",
      "Precision: 98.29%\n",
      "Recall: 71.59%\n",
      "F1 score: 82.84%\n"
     ]
    }
   ],
   "source": [
    "score = clf.score(X_test, y_test)\n",
    "y_pred=clf.predict(X_test)\n",
    "# print(\"Accuracy:\", score)\n",
    "# accuracy = accuracy_score(y_test, y_pred)\n",
    "\n",
    "# Calculate the precision\n",
    "precision = precision_score(y_test, y_pred)\n",
    "\n",
    "# Calculate the recall\n",
    "recall = recall_score(y_test, y_pred)\n",
    "\n",
    "# Calculate the F1 score\n",
    "f1 = f1_score(y_test, y_pred)\n",
    "\n",
    "# Print the results\n",
    "print(\"Accuracy: {:.2f}%\".format(score * 100))\n",
    "print(\"Precision: {:.2f}%\".format(precision * 100))\n",
    "print(\"Recall: {:.2f}%\".format(recall * 100))\n",
    "print(\"F1 score: {:.2f}%\".format(f1 * 100))"
   ]
  },
  {
   "cell_type": "code",
   "execution_count": 31,
   "id": "432e29d9",
   "metadata": {},
   "outputs": [
    {
     "name": "stdout",
     "output_type": "stream",
     "text": [
      "Accuracy: 100.00%\n",
      "Precision: 100.00%\n",
      "Recall: 100.00%\n",
      "F1 score: 100.00%\n"
     ]
    }
   ],
   "source": [
    "from sklearn.tree import DecisionTreeClassifier\n",
    "\n",
    "# Initialize the Decision Tree classifier\n",
    "tree_clf = DecisionTreeClassifier(random_state=42)\n",
    "\n",
    "# Train the Decision Tree classifier\n",
    "tree_clf.fit(X_train, y_train)\n",
    "\n",
    "# Use the trained classifier to make predictions on the testing set\n",
    "y_pred = tree_clf.predict(X_test)\n",
    "\n",
    "accuracy = accuracy_score(y_test, y_pred)\n",
    "\n",
    "# Calculate the precision\n",
    "precision = precision_score(y_test, y_pred)\n",
    "\n",
    "# Calculate the recall\n",
    "recall = recall_score(y_test, y_pred)\n",
    "\n",
    "# Calculate the F1 score\n",
    "f1 = f1_score(y_test, y_pred)\n",
    "\n",
    "# Print the results\n",
    "print(\"Accuracy: {:.2f}%\".format(accuracy * 100))\n",
    "print(\"Precision: {:.2f}%\".format(precision * 100))\n",
    "print(\"Recall: {:.2f}%\".format(recall * 100))\n",
    "print(\"F1 score: {:.2f}%\".format(f1 * 100))"
   ]
  },
  {
   "cell_type": "code",
   "execution_count": 50,
   "id": "5c046548",
   "metadata": {},
   "outputs": [
    {
     "name": "stdout",
     "output_type": "stream",
     "text": [
      "Accuracy: 100.00%\n",
      "Precision: 100.00%\n",
      "Recall: 100.00%\n",
      "F1 score: 100.00%\n"
     ]
    }
   ],
   "source": [
    "from sklearn.linear_model import LogisticRegression\n",
    "\n",
    "# Initialize the Logistic Regression classifier\n",
    "log_reg_clf = LogisticRegression(random_state=42)\n",
    "\n",
    "# Train the Logistic Regression classifier\n",
    "log_reg_clf.fit(X_train, y_train)\n",
    "# Use the trained classifier to make predictions on the testing set\n",
    "y_pred = log_reg_clf.predict(X_test)\n",
    "\n",
    "accuracy = accuracy_score(y_test, y_pred)\n",
    "\n",
    "# Calculate the precision\n",
    "precision = precision_score(y_test, y_pred)\n",
    "\n",
    "# Calculate the recall\n",
    "recall = recall_score(y_test, y_pred)\n",
    "\n",
    "# Calculate the F1 score\n",
    "f1 = f1_score(y_test, y_pred)\n",
    "\n",
    "# Print the results\n",
    "print(\"Accuracy: {:.2f}%\".format(accuracy * 100))\n",
    "print(\"Precision: {:.2f}%\".format(precision * 100))\n",
    "print(\"Recall: {:.2f}%\".format(recall * 100))\n",
    "print(\"F1 score: {:.2f}%\".format(f1 * 100))"
   ]
  },
  {
   "cell_type": "code",
   "execution_count": 51,
   "id": "fe696ae0",
   "metadata": {},
   "outputs": [
    {
     "name": "stdout",
     "output_type": "stream",
     "text": [
      "Cross-validation scores: [1. 1. 1. 1. 1.]\n",
      "Mean accuracy: 1.0\n"
     ]
    }
   ],
   "source": [
    "# Define the cross-validation object\n",
    "cv = KFold(n_splits=5, shuffle=True, random_state=42)\n",
    "\n",
    "# Evaluate the model using cross-validation\n",
    "scores = cross_val_score(log_reg_clf, X, y, cv=cv, scoring=\"accuracy\")\n",
    "\n",
    "# Print the cross-validation scores\n",
    "print(\"Cross-validation scores:\", scores)\n",
    "print(\"Mean accuracy:\", scores.mean())"
   ]
  },
  {
   "cell_type": "code",
   "execution_count": 33,
   "id": "bb19251d",
   "metadata": {},
   "outputs": [
    {
     "name": "stdout",
     "output_type": "stream",
     "text": [
      "Accuracy: 100.00%\n",
      "Precision: 100.00%\n",
      "Recall: 100.00%\n",
      "F1 score: 100.00%\n"
     ]
    }
   ],
   "source": [
    "from sklearn.ensemble import RandomForestClassifier\n",
    "\n",
    "# Initialize the Random Forest classifier\n",
    "forest_clf = RandomForestClassifier(random_state=42)\n",
    "\n",
    "# Train the Random Forest classifier\n",
    "forest_clf.fit(X_train, y_train)\n",
    "# Use the trained classifier to make predictions on the testing set\n",
    "y_pred = forest_clf.predict(X_test)\n",
    "\n",
    "accuracy = accuracy_score(y_test, y_pred)\n",
    "\n",
    "# Calculate the precision\n",
    "precision = precision_score(y_test, y_pred)\n",
    "\n",
    "# Calculate the recall\n",
    "recall = recall_score(y_test, y_pred)\n",
    "\n",
    "# Calculate the F1 score\n",
    "f1 = f1_score(y_test, y_pred)\n",
    "\n",
    "# Print the results\n",
    "print(\"Accuracy: {:.2f}%\".format(accuracy * 100))\n",
    "print(\"Precision: {:.2f}%\".format(precision * 100))\n",
    "print(\"Recall: {:.2f}%\".format(recall * 100))\n",
    "print(\"F1 score: {:.2f}%\".format(f1 * 100))"
   ]
  },
  {
   "cell_type": "code",
   "execution_count": 34,
   "id": "267a7397",
   "metadata": {},
   "outputs": [
    {
     "name": "stdout",
     "output_type": "stream",
     "text": [
      "Accuracy: 100.00%\n",
      "Precision: 100.00%\n",
      "Recall: 100.00%\n",
      "F1 score: 100.00%\n"
     ]
    }
   ],
   "source": [
    "from sklearn.naive_bayes import GaussianNB\n",
    "\n",
    "# Initialize the Naive Bayes classifier\n",
    "nb_clf = GaussianNB()\n",
    "\n",
    "# Train the Naive Bayes classifier\n",
    "nb_clf.fit(X_train, y_train)\n",
    "\n",
    "# Use the trained classifier to make predictions on the testing set\n",
    "y_pred = nb_clf.predict(X_test)\n",
    "\n",
    "accuracy = accuracy_score(y_test, y_pred)\n",
    "\n",
    "# Calculate the precision\n",
    "precision = precision_score(y_test, y_pred)\n",
    "\n",
    "# Calculate the recall\n",
    "recall = recall_score(y_test, y_pred)\n",
    "\n",
    "# Calculate the F1 score\n",
    "f1 = f1_score(y_test, y_pred)\n",
    "\n",
    "# Print the results\n",
    "print(\"Accuracy: {:.2f}%\".format(accuracy * 100))\n",
    "print(\"Precision: {:.2f}%\".format(precision * 100))\n",
    "print(\"Recall: {:.2f}%\".format(recall * 100))\n",
    "print(\"F1 score: {:.2f}%\".format(f1 * 100))"
   ]
  },
  {
   "cell_type": "code",
   "execution_count": 16,
   "id": "baf89243",
   "metadata": {},
   "outputs": [
    {
     "name": "stdout",
     "output_type": "stream",
     "text": [
      "Cross-validation scores: [0.921008   0.91495033 0.92244304 0.91638391 0.90838585]\n",
      "Mean accuracy: 0.916634224026988\n"
     ]
    }
   ],
   "source": [
    "# Define the cross-validation object\n",
    "cv = KFold(n_splits=5, shuffle=True, random_state=42)\n",
    "\n",
    "# Evaluate the model using cross-validation\n",
    "scores = cross_val_score(clf, X, y, cv=cv, scoring=\"accuracy\")\n",
    "\n",
    "# Print the cross-validation scores\n",
    "print(\"Cross-validation scores:\", scores)\n",
    "print(\"Mean accuracy:\", scores.mean())"
   ]
  },
  {
   "cell_type": "code",
   "execution_count": 17,
   "id": "041f919c",
   "metadata": {},
   "outputs": [
    {
     "name": "stdout",
     "output_type": "stream",
     "text": [
      "Accuracy: 0.9466925127211049\n",
      "              precision    recall  f1-score   support\n",
      "\n",
      "           0       0.95      0.98      0.96      2923\n",
      "           1       0.95      0.87      0.90      1204\n",
      "\n",
      "    accuracy                           0.95      4127\n",
      "   macro avg       0.95      0.92      0.93      4127\n",
      "weighted avg       0.95      0.95      0.95      4127\n",
      "\n"
     ]
    }
   ],
   "source": [
    "# Define the KNN model with k=5\n",
    "knn = KNeighborsClassifier(n_neighbors=5)\n",
    "\n",
    "# Fit the KNN model to the training data\n",
    "knn.fit(X_train, y_train)\n",
    "\n",
    "# Make predictions on the testing data\n",
    "y_pred = knn.predict(X_test)\n",
    "\n",
    "# Calculate the accuracy of the model\n",
    "accuracy = accuracy_score(y_test, y_pred)\n",
    "\n",
    "# Print the accuracy of the model\n",
    "print(\"Accuracy:\", accuracy)\n",
    "\n",
    "# Evaluate the performance of the model\n",
    "print(classification_report(y_test, y_pred))"
   ]
  },
  {
   "cell_type": "code",
   "execution_count": 18,
   "id": "1a046124",
   "metadata": {},
   "outputs": [
    {
     "name": "stdout",
     "output_type": "stream",
     "text": [
      "Cross-validation scores: [0.94525194 0.95251938 0.9592826  0.94764905 0.94813379 0.95249636\n",
      " 0.94958798 0.95685894 0.94667959 0.94425594]\n",
      "Mean accuracy: 0.9502715573767413\n"
     ]
    }
   ],
   "source": [
    "# Define the cross-validation object\n",
    "cv = KFold(n_splits=10, shuffle=True, random_state=42)\n",
    "\n",
    "# Evaluate the model using cross-validation\n",
    "scores = cross_val_score(knn, X, y, cv=cv, scoring=\"accuracy\")\n",
    "\n",
    "# Print the cross-validation scores\n",
    "print(\"Cross-validation scores:\", scores)\n",
    "print(\"Mean accuracy:\", scores.mean())"
   ]
  },
  {
   "cell_type": "markdown",
   "id": "f31db966",
   "metadata": {},
   "source": [
    "<H1>Multi Class Classification"
   ]
  },
  {
   "cell_type": "code",
   "execution_count": 19,
   "id": "2ac940ce",
   "metadata": {},
   "outputs": [
    {
     "name": "stdout",
     "output_type": "stream",
     "text": [
      "Fitting estimator with 42 features.\n",
      "Fitting estimator with 41 features.\n",
      "Fitting estimator with 40 features.\n",
      "Fitting estimator with 39 features.\n",
      "Fitting estimator with 38 features.\n",
      "Fitting estimator with 37 features.\n",
      "Fitting estimator with 36 features.\n",
      "Fitting estimator with 35 features.\n",
      "Fitting estimator with 34 features.\n",
      "Fitting estimator with 33 features.\n",
      "Fitting estimator with 32 features.\n",
      "Fitting estimator with 31 features.\n",
      "Fitting estimator with 30 features.\n",
      "Fitting estimator with 29 features.\n",
      "Fitting estimator with 28 features.\n",
      "Fitting estimator with 27 features.\n",
      "Fitting estimator with 26 features.\n",
      "Fitting estimator with 25 features.\n",
      "Fitting estimator with 24 features.\n",
      "Fitting estimator with 23 features.\n",
      "Fitting estimator with 22 features.\n",
      "Fitting estimator with 21 features.\n",
      "Fitting estimator with 20 features.\n",
      "Fitting estimator with 19 features.\n",
      "Fitting estimator with 18 features.\n",
      "Fitting estimator with 17 features.\n",
      "Fitting estimator with 16 features.\n",
      "Fitting estimator with 15 features.\n",
      "Fitting estimator with 14 features.\n",
      "Fitting estimator with 13 features.\n",
      "Fitting estimator with 12 features.\n",
      "Fitting estimator with 11 features.\n",
      "Selected Features:\n",
      "goal\n",
      "pledged\n",
      "backers_count\n",
      "usd_pledged\n",
      "spotlight\n",
      "launch_to_deadline\n",
      "launch_to_state_change\n",
      "launch_to_deadline_days\n",
      "launch_to_state_change_days\n",
      "SuccessfulBool\n"
     ]
    }
   ],
   "source": [
    "X = data.drop([\"deadline\", \"state_changed_at\", \"created_at\", \"launched_at\", \"name_len_clean\", \"blurb_len_clean\",'state'], axis=1)\n",
    "y = data['state']\n",
    "\n",
    "# Initialize the estimator\n",
    "estimator = RandomForestClassifier()\n",
    "\n",
    "# Initialize the RFE object\n",
    "rfe = RFE(estimator, n_features_to_select=10, verbose=1)\n",
    "\n",
    "# Fit the RFE object to the data\n",
    "rfe.fit(X, y)\n",
    "\n",
    "# Print the selected features\n",
    "print('Selected Features:')\n",
    "for i, col in enumerate(X.columns):\n",
    "    if rfe.support_[i]:\n",
    "        print(col)"
   ]
  },
  {
   "cell_type": "code",
   "execution_count": 19,
   "id": "51953437",
   "metadata": {},
   "outputs": [
    {
     "name": "stdout",
     "output_type": "stream",
     "text": [
      "X_train shape: (800, 10)\n",
      "X_test shape: (200, 10)\n",
      "y_train shape: (800,)\n",
      "y_test shape: (200,)\n"
     ]
    }
   ],
   "source": [
    "# Set output variable\n",
    "y = data[\"state\"].iloc[:1000]\n",
    "\n",
    "# Drop unnecessary columns\n",
    "X = data[[\"goal\", \"pledged\", \"backers_count\", \"usd_pledged\", \"spotlight\", \"launch_to_deadline\", \"launch_to_state_change\",\"launch_to_state_change_days\",\"launch_to_deadline_days\",\"SuccessfulBool\"]].iloc[:1000]\n",
    "\n",
    "# Split data into train and test sets\n",
    "# Perform stratified sampling to ensure balanced classes in the train-test split\n",
    "X_train, X_test, y_train, y_test = train_test_split(X, y, test_size=0.2, stratify=y, random_state=42)\n",
    "\n",
    "# Print the shapes of the train and test sets\n",
    "print('X_train shape:', X_train.shape)\n",
    "print('X_test shape:', X_test.shape)\n",
    "print('y_train shape:', y_train.shape)\n",
    "print('y_test shape:', y_test.shape)"
   ]
  },
  {
   "cell_type": "code",
   "execution_count": 19,
   "id": "e5d26a37",
   "metadata": {},
   "outputs": [
    {
     "data": {
      "text/plain": [
       "SVC(kernel='linear')"
      ]
     },
     "execution_count": 19,
     "metadata": {},
     "output_type": "execute_result"
    }
   ],
   "source": [
    "clf = svm.SVC(kernel='linear')\n",
    "clf.fit(X_train, y_train)"
   ]
  },
  {
   "cell_type": "code",
   "execution_count": 22,
   "id": "c1eac3ca",
   "metadata": {},
   "outputs": [
    {
     "name": "stdout",
     "output_type": "stream",
     "text": [
      "Accuracy: 95.00%\n",
      "Precision: 95.00%\n",
      "Recall: 95.00%\n",
      "F1 score: 95.00%\n"
     ]
    }
   ],
   "source": [
    "score = clf.score(X_test, y_test)\n",
    "# print(\"Accuracy:\", score)\n",
    "y_pred=clf.predict(X_test)\n",
    "\n",
    "accuracy = accuracy_score(y_test, y_pred)\n",
    "\n",
    "# Calculate the precision\n",
    "precision = precision_score(y_test, y_pred, average='micro')\n",
    "\n",
    "# Calculate the recall\n",
    "recall = recall_score(y_test, y_pred, average='micro')\n",
    "\n",
    "# Calculate the F1 score\n",
    "f1 = f1_score(y_test, y_pred, average='micro')\n",
    "\n",
    "# Print the results\n",
    "print(\"Accuracy: {:.2f}%\".format(score * 100))\n",
    "print(\"Precision: {:.2f}%\".format(precision * 100))\n",
    "print(\"Recall: {:.2f}%\".format(recall * 100))\n",
    "print(\"F1 score: {:.2f}%\".format(f1 * 100))"
   ]
  },
  {
   "cell_type": "code",
   "execution_count": 25,
   "id": "27507ac3",
   "metadata": {},
   "outputs": [
    {
     "name": "stdout",
     "output_type": "stream",
     "text": [
      "Accuracy: 0.905\n",
      "              precision    recall  f1-score   support\n",
      "\n",
      "           0       0.88      0.97      0.92       116\n",
      "           1       0.25      0.06      0.10        16\n",
      "           2       0.99      1.00      0.99        68\n",
      "\n",
      "    accuracy                           0.91       200\n",
      "   macro avg       0.71      0.68      0.67       200\n",
      "weighted avg       0.87      0.91      0.88       200\n",
      "\n"
     ]
    }
   ],
   "source": [
    "# Create and fit a KNN model\n",
    "k = 4  # number of neighbors\n",
    "knn = KNeighborsClassifier(n_neighbors=k)\n",
    "knn.fit(X_train, y_train)\n",
    "\n",
    "# Use the trained model to predict the classes of the test data\n",
    "# predictions = knn.predict(X_test)\n",
    "\n",
    "y_pred = knn.predict(X_test)\n",
    "# Calculate the accuracy of the model\n",
    "accuracy = accuracy_score(y_test, y_pred)\n",
    "\n",
    "# Print the accuracy of the model\n",
    "print(\"Accuracy:\", accuracy)\n",
    "\n",
    "# Evaluate the performance of the model\n",
    "print(classification_report(y_test, y_pred))"
   ]
  },
  {
   "cell_type": "code",
   "execution_count": 26,
   "id": "b5462d54",
   "metadata": {},
   "outputs": [
    {
     "name": "stdout",
     "output_type": "stream",
     "text": [
      "Cross-validation scores: [0.96 0.88 0.95 0.86 0.87 0.91 0.92 0.97 0.91 0.88]\n",
      "Mean accuracy: 0.9110000000000001\n"
     ]
    }
   ],
   "source": [
    "# Define the cross-validation object\n",
    "cv = KFold(n_splits=10, shuffle=True, random_state=42)\n",
    "\n",
    "# Evaluate the model using cross-validation\n",
    "scores = cross_val_score(knn, X, y, cv=cv, scoring=\"accuracy\")\n",
    "\n",
    "# Print the cross-validation scores\n",
    "print(\"Cross-validation scores:\", scores)\n",
    "print(\"Mean accuracy:\", scores.mean())"
   ]
  },
  {
   "cell_type": "code",
   "execution_count": null,
   "id": "43b6cd14",
   "metadata": {},
   "outputs": [],
   "source": []
  }
 ],
 "metadata": {
  "kernelspec": {
   "display_name": "Python 3 (ipykernel)",
   "language": "python",
   "name": "python3"
  },
  "language_info": {
   "codemirror_mode": {
    "name": "ipython",
    "version": 3
   },
   "file_extension": ".py",
   "mimetype": "text/x-python",
   "name": "python",
   "nbconvert_exporter": "python",
   "pygments_lexer": "ipython3",
   "version": "3.9.13"
  }
 },
 "nbformat": 4,
 "nbformat_minor": 5
}
