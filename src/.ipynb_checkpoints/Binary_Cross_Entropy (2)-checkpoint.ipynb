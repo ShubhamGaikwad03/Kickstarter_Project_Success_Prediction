{
 "cells": [
  {
   "cell_type": "code",
   "execution_count": 17,
   "metadata": {
    "id": "aK1GAICtBTGT"
   },
   "outputs": [],
   "source": [
    "import pandas as pd\n",
    "import numpy as np\n",
    "from sklearn.model_selection import train_test_split\n",
    "from keras.models import Sequential\n",
    "from keras.layers import Dense\n",
    "from keras.losses import binary_crossentropy\n",
    "from sklearn.linear_model import LogisticRegression\n",
    "from sklearn.feature_selection import RFE\n",
    "\n",
    "import warnings\n",
    "# Ignore all warnings\n",
    "warnings.filterwarnings(\"ignore\")\n"
   ]
  },
  {
   "cell_type": "code",
   "execution_count": 5,
   "metadata": {
    "colab": {
     "base_uri": "https://localhost:8080/",
     "height": 699
    },
    "id": "xhWnfkAC5yTB",
    "outputId": "1acf480b-a216-4c2d-9c67-15cadd1185fd"
   },
   "outputs": [
    {
     "name": "stderr",
     "output_type": "stream",
     "text": [
      "<ipython-input-5-1dc2398077f3>:1: DtypeWarning: Columns (29,30,31,32) have mixed types. Specify dtype option on import or set low_memory=False.\n",
      "  data = pd.read_csv('kickstarter_data_full.csv')\n"
     ]
    },
    {
     "data": {
      "text/html": [
       "\n",
       "  <div id=\"df-3a5220d6-ef4e-485e-ac4d-916324aaf3c6\">\n",
       "    <div class=\"colab-df-container\">\n",
       "      <div>\n",
       "<style scoped>\n",
       "    .dataframe tbody tr th:only-of-type {\n",
       "        vertical-align: middle;\n",
       "    }\n",
       "\n",
       "    .dataframe tbody tr th {\n",
       "        vertical-align: top;\n",
       "    }\n",
       "\n",
       "    .dataframe thead th {\n",
       "        text-align: right;\n",
       "    }\n",
       "</style>\n",
       "<table border=\"1\" class=\"dataframe\">\n",
       "  <thead>\n",
       "    <tr style=\"text-align: right;\">\n",
       "      <th></th>\n",
       "      <th>Unnamed: 0</th>\n",
       "      <th>id</th>\n",
       "      <th>photo</th>\n",
       "      <th>name</th>\n",
       "      <th>blurb</th>\n",
       "      <th>goal</th>\n",
       "      <th>pledged</th>\n",
       "      <th>state</th>\n",
       "      <th>slug</th>\n",
       "      <th>disable_communication</th>\n",
       "      <th>...</th>\n",
       "      <th>launch_to_deadline</th>\n",
       "      <th>launch_to_state_change</th>\n",
       "      <th>create_to_launch_days</th>\n",
       "      <th>launch_to_deadline_days</th>\n",
       "      <th>launch_to_state_change_days</th>\n",
       "      <th>SuccessfulBool</th>\n",
       "      <th>USorGB</th>\n",
       "      <th>TOPCOUNTRY</th>\n",
       "      <th>LaunchedTuesday</th>\n",
       "      <th>DeadlineWeekend</th>\n",
       "    </tr>\n",
       "  </thead>\n",
       "  <tbody>\n",
       "    <tr>\n",
       "      <th>0</th>\n",
       "      <td>0</td>\n",
       "      <td>1454391034</td>\n",
       "      <td>{\"small\":\"https://ksr-ugc.imgix.net/assets/011...</td>\n",
       "      <td>Auntie Di's Music Time Sign ASL for Hearing an...</td>\n",
       "      <td>MTS ASL Curriculum Workbook is a reproducible ...</td>\n",
       "      <td>1500.0</td>\n",
       "      <td>0.0</td>\n",
       "      <td>failed</td>\n",
       "      <td>auntie-dis-music-time-sign-asl-for-hearing-and...</td>\n",
       "      <td>False</td>\n",
       "      <td>...</td>\n",
       "      <td>36 days 20:47:24.000000000</td>\n",
       "      <td>36 days 20:47:24.000000000</td>\n",
       "      <td>17</td>\n",
       "      <td>36</td>\n",
       "      <td>36</td>\n",
       "      <td>0</td>\n",
       "      <td>1</td>\n",
       "      <td>1</td>\n",
       "      <td>0</td>\n",
       "      <td>0</td>\n",
       "    </tr>\n",
       "    <tr>\n",
       "      <th>1</th>\n",
       "      <td>1</td>\n",
       "      <td>1655206086</td>\n",
       "      <td>{\"small\":\"https://ksr-ugc.imgix.net/assets/012...</td>\n",
       "      <td>Jump Start Kindergarten Toolkit</td>\n",
       "      <td>This kit teaches how to print, correct an ugly...</td>\n",
       "      <td>500.0</td>\n",
       "      <td>0.0</td>\n",
       "      <td>failed</td>\n",
       "      <td>jump-start-kindergarten-toolkit</td>\n",
       "      <td>False</td>\n",
       "      <td>...</td>\n",
       "      <td>60 days 00:00:00.000000000</td>\n",
       "      <td>60 days 00:00:02.000000000</td>\n",
       "      <td>10</td>\n",
       "      <td>60</td>\n",
       "      <td>60</td>\n",
       "      <td>0</td>\n",
       "      <td>1</td>\n",
       "      <td>1</td>\n",
       "      <td>0</td>\n",
       "      <td>0</td>\n",
       "    </tr>\n",
       "    <tr>\n",
       "      <th>2</th>\n",
       "      <td>2</td>\n",
       "      <td>311581827</td>\n",
       "      <td>{\"small\":\"https://ksr-ugc.imgix.net/assets/012...</td>\n",
       "      <td>Ojukwu Balewa Awolowo (O.B.A.) Public Library ...</td>\n",
       "      <td>Establishing a free, world-class, public libra...</td>\n",
       "      <td>100000.0</td>\n",
       "      <td>120.0</td>\n",
       "      <td>failed</td>\n",
       "      <td>ojukwu-balewa-awolowo-oba-public-library-of-ni...</td>\n",
       "      <td>False</td>\n",
       "      <td>...</td>\n",
       "      <td>60 days 00:00:00.000000000</td>\n",
       "      <td>60 days 00:00:01.000000000</td>\n",
       "      <td>1</td>\n",
       "      <td>60</td>\n",
       "      <td>60</td>\n",
       "      <td>0</td>\n",
       "      <td>1</td>\n",
       "      <td>1</td>\n",
       "      <td>0</td>\n",
       "      <td>0</td>\n",
       "    </tr>\n",
       "    <tr>\n",
       "      <th>3</th>\n",
       "      <td>3</td>\n",
       "      <td>859724515</td>\n",
       "      <td>{\"small\":\"https://ksr-ugc.imgix.net/assets/011...</td>\n",
       "      <td>MASTIZE - [mas-TAHYZ, MAS-tahyz]  - to spread</td>\n",
       "      <td>Goal: Introducing a new word into the English ...</td>\n",
       "      <td>5000.0</td>\n",
       "      <td>0.0</td>\n",
       "      <td>failed</td>\n",
       "      <td>mastize-mas-tahyz-mas-tahyz-to-spread</td>\n",
       "      <td>False</td>\n",
       "      <td>...</td>\n",
       "      <td>30 days 00:00:00.000000000</td>\n",
       "      <td>30 days 00:00:00.000000000</td>\n",
       "      <td>0</td>\n",
       "      <td>30</td>\n",
       "      <td>30</td>\n",
       "      <td>0</td>\n",
       "      <td>1</td>\n",
       "      <td>1</td>\n",
       "      <td>0</td>\n",
       "      <td>0</td>\n",
       "    </tr>\n",
       "    <tr>\n",
       "      <th>4</th>\n",
       "      <td>4</td>\n",
       "      <td>1613604977</td>\n",
       "      <td>{\"small\":\"https://ksr-ugc.imgix.net/assets/012...</td>\n",
       "      <td>Synopse der EU-DSGVO - Artikel, Erwägungsgründ...</td>\n",
       "      <td>Zu den Artikeln der DSGVO sind die korrespondi...</td>\n",
       "      <td>3222.0</td>\n",
       "      <td>356.0</td>\n",
       "      <td>failed</td>\n",
       "      <td>synopse-der-eu-dsgvo-artikel-erwagungsgrunde-bdsg</td>\n",
       "      <td>False</td>\n",
       "      <td>...</td>\n",
       "      <td>32 days 06:02:33.000000000</td>\n",
       "      <td>32 days 06:02:33.000000000</td>\n",
       "      <td>0</td>\n",
       "      <td>32</td>\n",
       "      <td>32</td>\n",
       "      <td>0</td>\n",
       "      <td>0</td>\n",
       "      <td>0</td>\n",
       "      <td>0</td>\n",
       "      <td>0</td>\n",
       "    </tr>\n",
       "  </tbody>\n",
       "</table>\n",
       "<p>5 rows × 68 columns</p>\n",
       "</div>\n",
       "      <button class=\"colab-df-convert\" onclick=\"convertToInteractive('df-3a5220d6-ef4e-485e-ac4d-916324aaf3c6')\"\n",
       "              title=\"Convert this dataframe to an interactive table.\"\n",
       "              style=\"display:none;\">\n",
       "        \n",
       "  <svg xmlns=\"http://www.w3.org/2000/svg\" height=\"24px\"viewBox=\"0 0 24 24\"\n",
       "       width=\"24px\">\n",
       "    <path d=\"M0 0h24v24H0V0z\" fill=\"none\"/>\n",
       "    <path d=\"M18.56 5.44l.94 2.06.94-2.06 2.06-.94-2.06-.94-.94-2.06-.94 2.06-2.06.94zm-11 1L8.5 8.5l.94-2.06 2.06-.94-2.06-.94L8.5 2.5l-.94 2.06-2.06.94zm10 10l.94 2.06.94-2.06 2.06-.94-2.06-.94-.94-2.06-.94 2.06-2.06.94z\"/><path d=\"M17.41 7.96l-1.37-1.37c-.4-.4-.92-.59-1.43-.59-.52 0-1.04.2-1.43.59L10.3 9.45l-7.72 7.72c-.78.78-.78 2.05 0 2.83L4 21.41c.39.39.9.59 1.41.59.51 0 1.02-.2 1.41-.59l7.78-7.78 2.81-2.81c.8-.78.8-2.07 0-2.86zM5.41 20L4 18.59l7.72-7.72 1.47 1.35L5.41 20z\"/>\n",
       "  </svg>\n",
       "      </button>\n",
       "      \n",
       "  <style>\n",
       "    .colab-df-container {\n",
       "      display:flex;\n",
       "      flex-wrap:wrap;\n",
       "      gap: 12px;\n",
       "    }\n",
       "\n",
       "    .colab-df-convert {\n",
       "      background-color: #E8F0FE;\n",
       "      border: none;\n",
       "      border-radius: 50%;\n",
       "      cursor: pointer;\n",
       "      display: none;\n",
       "      fill: #1967D2;\n",
       "      height: 32px;\n",
       "      padding: 0 0 0 0;\n",
       "      width: 32px;\n",
       "    }\n",
       "\n",
       "    .colab-df-convert:hover {\n",
       "      background-color: #E2EBFA;\n",
       "      box-shadow: 0px 1px 2px rgba(60, 64, 67, 0.3), 0px 1px 3px 1px rgba(60, 64, 67, 0.15);\n",
       "      fill: #174EA6;\n",
       "    }\n",
       "\n",
       "    [theme=dark] .colab-df-convert {\n",
       "      background-color: #3B4455;\n",
       "      fill: #D2E3FC;\n",
       "    }\n",
       "\n",
       "    [theme=dark] .colab-df-convert:hover {\n",
       "      background-color: #434B5C;\n",
       "      box-shadow: 0px 1px 3px 1px rgba(0, 0, 0, 0.15);\n",
       "      filter: drop-shadow(0px 1px 2px rgba(0, 0, 0, 0.3));\n",
       "      fill: #FFFFFF;\n",
       "    }\n",
       "  </style>\n",
       "\n",
       "      <script>\n",
       "        const buttonEl =\n",
       "          document.querySelector('#df-3a5220d6-ef4e-485e-ac4d-916324aaf3c6 button.colab-df-convert');\n",
       "        buttonEl.style.display =\n",
       "          google.colab.kernel.accessAllowed ? 'block' : 'none';\n",
       "\n",
       "        async function convertToInteractive(key) {\n",
       "          const element = document.querySelector('#df-3a5220d6-ef4e-485e-ac4d-916324aaf3c6');\n",
       "          const dataTable =\n",
       "            await google.colab.kernel.invokeFunction('convertToInteractive',\n",
       "                                                     [key], {});\n",
       "          if (!dataTable) return;\n",
       "\n",
       "          const docLinkHtml = 'Like what you see? Visit the ' +\n",
       "            '<a target=\"_blank\" href=https://colab.research.google.com/notebooks/data_table.ipynb>data table notebook</a>'\n",
       "            + ' to learn more about interactive tables.';\n",
       "          element.innerHTML = '';\n",
       "          dataTable['output_type'] = 'display_data';\n",
       "          await google.colab.output.renderOutput(dataTable, element);\n",
       "          const docLink = document.createElement('div');\n",
       "          docLink.innerHTML = docLinkHtml;\n",
       "          element.appendChild(docLink);\n",
       "        }\n",
       "      </script>\n",
       "    </div>\n",
       "  </div>\n",
       "  "
      ],
      "text/plain": [
       "   Unnamed: 0          id                                              photo  \\\n",
       "0           0  1454391034  {\"small\":\"https://ksr-ugc.imgix.net/assets/011...   \n",
       "1           1  1655206086  {\"small\":\"https://ksr-ugc.imgix.net/assets/012...   \n",
       "2           2   311581827  {\"small\":\"https://ksr-ugc.imgix.net/assets/012...   \n",
       "3           3   859724515  {\"small\":\"https://ksr-ugc.imgix.net/assets/011...   \n",
       "4           4  1613604977  {\"small\":\"https://ksr-ugc.imgix.net/assets/012...   \n",
       "\n",
       "                                                name  \\\n",
       "0  Auntie Di's Music Time Sign ASL for Hearing an...   \n",
       "1                    Jump Start Kindergarten Toolkit   \n",
       "2  Ojukwu Balewa Awolowo (O.B.A.) Public Library ...   \n",
       "3      MASTIZE - [mas-TAHYZ, MAS-tahyz]  - to spread   \n",
       "4  Synopse der EU-DSGVO - Artikel, Erwägungsgründ...   \n",
       "\n",
       "                                               blurb      goal  pledged  \\\n",
       "0  MTS ASL Curriculum Workbook is a reproducible ...    1500.0      0.0   \n",
       "1  This kit teaches how to print, correct an ugly...     500.0      0.0   \n",
       "2  Establishing a free, world-class, public libra...  100000.0    120.0   \n",
       "3  Goal: Introducing a new word into the English ...    5000.0      0.0   \n",
       "4  Zu den Artikeln der DSGVO sind die korrespondi...    3222.0    356.0   \n",
       "\n",
       "    state                                               slug  \\\n",
       "0  failed  auntie-dis-music-time-sign-asl-for-hearing-and...   \n",
       "1  failed                    jump-start-kindergarten-toolkit   \n",
       "2  failed  ojukwu-balewa-awolowo-oba-public-library-of-ni...   \n",
       "3  failed              mastize-mas-tahyz-mas-tahyz-to-spread   \n",
       "4  failed  synopse-der-eu-dsgvo-artikel-erwagungsgrunde-bdsg   \n",
       "\n",
       "   disable_communication  ...          launch_to_deadline  \\\n",
       "0                  False  ...  36 days 20:47:24.000000000   \n",
       "1                  False  ...  60 days 00:00:00.000000000   \n",
       "2                  False  ...  60 days 00:00:00.000000000   \n",
       "3                  False  ...  30 days 00:00:00.000000000   \n",
       "4                  False  ...  32 days 06:02:33.000000000   \n",
       "\n",
       "       launch_to_state_change create_to_launch_days  launch_to_deadline_days  \\\n",
       "0  36 days 20:47:24.000000000                    17                       36   \n",
       "1  60 days 00:00:02.000000000                    10                       60   \n",
       "2  60 days 00:00:01.000000000                     1                       60   \n",
       "3  30 days 00:00:00.000000000                     0                       30   \n",
       "4  32 days 06:02:33.000000000                     0                       32   \n",
       "\n",
       "  launch_to_state_change_days SuccessfulBool USorGB TOPCOUNTRY  \\\n",
       "0                          36              0      1          1   \n",
       "1                          60              0      1          1   \n",
       "2                          60              0      1          1   \n",
       "3                          30              0      1          1   \n",
       "4                          32              0      0          0   \n",
       "\n",
       "   LaunchedTuesday  DeadlineWeekend  \n",
       "0                0                0  \n",
       "1                0                0  \n",
       "2                0                0  \n",
       "3                0                0  \n",
       "4                0                0  \n",
       "\n",
       "[5 rows x 68 columns]"
      ]
     },
     "execution_count": 5,
     "metadata": {},
     "output_type": "execute_result"
    }
   ],
   "source": [
    "data = pd.read_csv('kickstarter_data_full.csv')\n",
    "data.head()"
   ]
  },
  {
   "cell_type": "code",
   "execution_count": 6,
   "metadata": {
    "id": "gLiNcQIN5ejs"
   },
   "outputs": [],
   "source": [
    "data['disable_communication'] = data['disable_communication'] * 1 #converts type bool to 0 for false and 1 for true\n",
    "data['staff_pick'] = data['staff_pick'] * 1 #converts type bool to 0 for false and 1 for true\n",
    "data['spotlight'] = data['spotlight'] * 1 "
   ]
  },
  {
   "cell_type": "code",
   "execution_count": 7,
   "metadata": {
    "id": "Y36oBCk76CaI"
   },
   "outputs": [],
   "source": [
    "state_to_num = {'failed': 0, 'canceled': 1, 'successful': 2, 'live': 3, 'suspended': 4}\n",
    "data['state'] = data['state'].map(state_to_num)"
   ]
  },
  {
   "cell_type": "code",
   "execution_count": 8,
   "metadata": {
    "id": "NxZ94zli6D1y"
   },
   "outputs": [],
   "source": [
    "data.drop(columns=['Unnamed: 0', 'id','name', 'blurb','photo', 'slug', 'disable_communication', \n",
    "                 'currency_symbol', 'currency_trailing_code', 'creator', \n",
    "                 'location', 'category', 'profile', 'urls', 'source_url', \n",
    "                 'friends', 'is_starred', 'is_backing', 'permissions'], \n",
    "        inplace=True)"
   ]
  },
  {
   "cell_type": "code",
   "execution_count": 9,
   "metadata": {
    "id": "WNbmkGbA6Fug"
   },
   "outputs": [],
   "source": [
    "for column in data.columns:\n",
    "    if data[column].dtype == 'object':\n",
    "        data[column].fillna(data[column].mode()[0], inplace=True)\n",
    "    elif data[column].dtype.name == 'category':\n",
    "        data[column].fillna(data[column].mode()[0], inplace=True)\n",
    "    else:\n",
    "        data[column].fillna(data[column].mean(), inplace=True)"
   ]
  },
  {
   "cell_type": "code",
   "execution_count": 11,
   "metadata": {
    "id": "Tg4hU-E86G-d"
   },
   "outputs": [],
   "source": [
    "from sklearn.preprocessing import OrdinalEncoder\n",
    "data['staff_pick'] = data['staff_pick'].astype(int)\n",
    "data['spotlight'] = data['spotlight'].astype(int)\n",
    "\n",
    "# Create an instance of the OrdinalEncoder\n",
    "encoder = OrdinalEncoder()\n",
    "\n",
    "data['country'] = encoder.fit_transform(data[['country']])\n",
    "data['currency'] = encoder.fit_transform(data[['currency']])\n",
    "data['deadline_weekday'] = encoder.fit_transform(data[['deadline_weekday']])\n",
    "data['state_changed_at_weekday'] = encoder.fit_transform(data[['state_changed_at_weekday']])\n",
    "data['created_at_weekday'] = encoder.fit_transform(data[['created_at_weekday']])\n",
    "data['launched_at_weekday'] = encoder.fit_transform(data[['launched_at_weekday']])\n",
    " "
   ]
  },
  {
   "cell_type": "code",
   "execution_count": 12,
   "metadata": {
    "id": "SiGY8eVb6IR_"
   },
   "outputs": [],
   "source": [
    "data['deadline'] = pd.to_datetime(data['deadline']).astype('int64') * 1e-9\n",
    "data['state_changed_at'] = pd.to_datetime(data['state_changed_at']).astype('int64') * 1e-9\n",
    "data['created_at'] = pd.to_datetime(data['created_at']).astype('int64') * 1e-9\n",
    "data['launched_at'] = pd.to_datetime(data['launched_at']).astype('int64') * 1e-9\n",
    "\n",
    "data['deadline_yr'] = pd.to_datetime(data['deadline']).dt.year.astype(float)\n",
    "data['deadline_month'] = pd.to_datetime(data['deadline']).dt.month.astype(float)\n",
    "data['deadline_day'] = pd.to_datetime(data['deadline']).dt.day.astype(float)\n",
    "data['deadline_hr'] = pd.to_datetime(data['deadline']).dt.hour.astype(float)\n",
    "\n",
    "data['state_changed_at_yr'] = pd.to_datetime(data['state_changed_at']).dt.year.astype(float)\n",
    "data['state_changed_at_month'] = pd.to_datetime(data['state_changed_at']).dt.month.astype(float)\n",
    "data['state_changed_at_day'] = pd.to_datetime(data['state_changed_at']).dt.day.astype(float)\n",
    "data['state_changed_at_hr'] = pd.to_datetime(data['state_changed_at']).dt.hour.astype(float)\n",
    "\n",
    "data['created_at_yr'] = pd.to_datetime(data['created_at']).dt.year.astype(float)\n",
    "data['created_at_month'] = pd.to_datetime(data['created_at']).dt.month.astype(float)\n",
    "data['created_at_day'] = pd.to_datetime(data['created_at']).dt.day.astype(float)\n",
    "data['created_at_hr'] = pd.to_datetime(data['created_at']).dt.hour.astype(float)\n",
    "\n",
    "data['launched_at_yr'] = pd.to_datetime(data['launched_at']).dt.year.astype(float)\n",
    "data['launched_at_month'] = pd.to_datetime(data['launched_at']).dt.month.astype(float)\n",
    "data['launched_at_day'] = pd.to_datetime(data['launched_at']).dt.day.astype(float)\n",
    "data['launched_at_hr'] = pd.to_datetime(data['launched_at']).dt.hour.astype(float)\n",
    "\n",
    "data['create_to_launch'] = pd.to_timedelta(data['create_to_launch']).dt.total_seconds() / 86400.0\n",
    "data['launch_to_deadline'] = pd.to_timedelta(data['launch_to_deadline']).dt.total_seconds() / 86400.0\n",
    "data['launch_to_state_change'] = pd.to_timedelta(data['launch_to_state_change']).dt.total_seconds() / 86400.0\n",
    "\n",
    "data['create_to_launch_days'] = data['create_to_launch_days'].astype(float)\n",
    "data['launch_to_deadline_days'] = data['launch_to_deadline_days'].astype(float)\n",
    "data['launch_to_state_change_days'] = data['launch_to_state_change_days'].astype(float)"
   ]
  },
  {
   "cell_type": "code",
   "execution_count": 18,
   "metadata": {
    "colab": {
     "base_uri": "https://localhost:8080/"
    },
    "id": "Wl3O8iFd6OLO",
    "outputId": "438fb670-3699-4c49-daf6-80395b36e8df"
   },
   "outputs": [
    {
     "name": "stdout",
     "output_type": "stream",
     "text": [
      "Selected Features:\n",
      "state\n",
      "staff_pick\n",
      "static_usd_rate\n",
      "spotlight\n",
      "launch_to_deadline\n",
      "launch_to_state_change\n",
      "launch_to_deadline_days\n",
      "launch_to_state_change_days\n",
      "USorGB\n",
      "DeadlineWeekend\n"
     ]
    }
   ],
   "source": [
    "# Define the features and target variable\n",
    "X = data.drop([\"deadline\", \"state_changed_at\", \"created_at\", \"launched_at\", \"name_len_clean\", \"blurb_len_clean\", \"SuccessfulBool\"], axis=1)\n",
    "y = data[\"SuccessfulBool\"]\n",
    "\n",
    "# Define the model\n",
    "model = LogisticRegression()\n",
    "\n",
    "# Define the RFE object\n",
    "rfe = RFE(estimator=model, n_features_to_select=10)\n",
    "\n",
    "# Fit the RFE object to the data\n",
    "rfe.fit(X, y)\n",
    "\n",
    "# Print the selected features\n",
    "print(\"Selected Features:\")\n",
    "for i in range(X.shape[1]):\n",
    "    if rfe.support_[i]:\n",
    "        print(X.columns[i])\n"
   ]
  },
  {
   "cell_type": "code",
   "execution_count": 19,
   "metadata": {
    "id": "z4rKefL06QZZ"
   },
   "outputs": [],
   "source": [
    "# Set output variable\n",
    "y = data[\"SuccessfulBool\"]\n",
    "\n",
    "# Drop unnecessary columns\n",
    "# X = data[[\"state\", \"staff_pick\", \"spotlight\", \"create_to_launch\", \"launch_to_state_change\", \"create_to_launch_days\", \"launch_to_state_change_days\",\"launch_to_state_change_days\",\"USorGB\",\"TOPCOUNTRY\"]]\n",
    "X = data[[\"state\", \"staff_pick\",\"static_usd_rate\",\"spotlight\",\"create_to_launch\",\"launch_to_state_change\",\"create_to_launch_days\",\"launch_to_state_change_days\",\"USorGB\",\"TOPCOUNTRY\"]]\n",
    "\n",
    "# Split data into train and test sets\n",
    "X_train, X_test, y_train, y_test = train_test_split(X, y, test_size=0.2, stratify=y, random_state=42)"
   ]
  },
  {
   "cell_type": "code",
   "execution_count": 21,
   "metadata": {
    "colab": {
     "base_uri": "https://localhost:8080/"
    },
    "id": "6PsNKFYi7HSt",
    "outputId": "59b62cb5-63cd-413a-e9ef-9d38a524174b"
   },
   "outputs": [
    {
     "name": "stdout",
     "output_type": "stream",
     "text": [
      "Epoch 1/5\n",
      "516/516 [==============================] - 3s 2ms/step - loss: 0.5210 - accuracy: 0.8724\n",
      "Epoch 2/5\n",
      "516/516 [==============================] - 1s 2ms/step - loss: 0.1033 - accuracy: 0.9781\n",
      "Epoch 3/5\n",
      "516/516 [==============================] - 1s 2ms/step - loss: 0.0607 - accuracy: 0.9875\n",
      "Epoch 4/5\n",
      "516/516 [==============================] - 1s 2ms/step - loss: 0.0378 - accuracy: 0.9921\n",
      "Epoch 5/5\n",
      "516/516 [==============================] - 1s 2ms/step - loss: 0.0240 - accuracy: 0.9939\n",
      "129/129 [==============================] - 0s 1ms/step - loss: 0.0174 - accuracy: 0.9959\n",
      "Test loss: 0.0174\n",
      "Test accuracy: 0.9959\n"
     ]
    }
   ],
   "source": [
    "# Define a sequential model\n",
    "model = Sequential()\n",
    "\n",
    "# Add dense layers to the model\n",
    "model.add(Dense(32, input_dim=X_train.shape[1], activation='relu'))\n",
    "model.add(Dense(16, activation='relu'))\n",
    "model.add(Dense(1, activation='sigmoid'))\n",
    "\n",
    "# Compile the model with binary cross-entropy loss\n",
    "model.compile(loss=binary_crossentropy, optimizer='adam', metrics=['accuracy'])\n",
    "\n",
    "# Fit the model to the training data\n",
    "model.fit(X_train, y_train, epochs=5, batch_size=32, verbose=1)\n",
    "\n",
    "# Evaluate the model on the testing data\n",
    "loss, accuracy = model.evaluate(X_test, y_test, verbose=1)\n",
    "print(f'Test loss: {loss:.4f}\\nTest accuracy: {accuracy:.4f}')"
   ]
  },
  {
   "cell_type": "markdown",
   "metadata": {
    "id": "yxLQtL_L9D-y"
   },
   "source": [
    "<h1>categorical cross-entropy"
   ]
  },
  {
   "cell_type": "code",
   "execution_count": 22,
   "metadata": {
    "id": "mc-iFOTD9Otc"
   },
   "outputs": [],
   "source": [
    "from keras.models import Sequential\n",
    "from keras.layers import Dense\n",
    "from keras.losses import CategoricalCrossentropy\n",
    "from keras.utils import to_categorical"
   ]
  },
  {
   "cell_type": "code",
   "execution_count": 39,
   "metadata": {
    "id": "pQiRJNLk9HbM"
   },
   "outputs": [],
   "source": [
    "# Set output variable\n",
    "y = data[\"state\"]\n",
    "\n",
    "# Drop unnecessary columns\n",
    "X = data[[\"goal\", \"pledged\", \"backers_count\", \"usd_pledged\", \"spotlight\", \"launch_to_deadline\", \"launch_to_state_change\",\"launch_to_state_change_days\",\"launch_to_deadline_days\",\"SuccessfulBool\"]]\n",
    "\n",
    "# Split data into train and test sets\n",
    "# Perform stratified sampling to ensure balanced classes in the train-test split\n",
    "X_train, X_test, y_train, y_test = train_test_split(X, y, test_size=0.2, stratify=y, random_state=42)"
   ]
  },
  {
   "cell_type": "code",
   "execution_count": 40,
   "metadata": {
    "colab": {
     "base_uri": "https://localhost:8080/"
    },
    "id": "6cE4XoiQ7K20",
    "outputId": "fa8cebf3-ec1a-4b02-b666-6dc73a44d62d"
   },
   "outputs": [
    {
     "name": "stdout",
     "output_type": "stream",
     "text": [
      "Epoch 1/6\n",
      "516/516 [==============================] - 2s 2ms/step - loss: 1102.2457 - accuracy: 0.7054\n",
      "Epoch 2/6\n",
      "516/516 [==============================] - 1s 2ms/step - loss: 605.2703 - accuracy: 0.7494\n",
      "Epoch 3/6\n",
      "516/516 [==============================] - 1s 2ms/step - loss: 709.7339 - accuracy: 0.7596\n",
      "Epoch 4/6\n",
      "516/516 [==============================] - 1s 2ms/step - loss: 322.8583 - accuracy: 0.7666\n",
      "Epoch 5/6\n",
      "516/516 [==============================] - 1s 2ms/step - loss: 336.7768 - accuracy: 0.7540\n",
      "Epoch 6/6\n",
      "516/516 [==============================] - 2s 3ms/step - loss: 308.0999 - accuracy: 0.7709\n",
      "129/129 [==============================] - 0s 2ms/step - loss: 823.8190 - accuracy: 0.8360\n",
      "Test loss: 823.8190\n",
      "Test accuracy: 0.8360\n"
     ]
    }
   ],
   "source": [
    "# Convert the target variable to one-hot encoded labels\n",
    "y = to_categorical(y)\n",
    "\n",
    "# Split the dataset into training and testing sets\n",
    "X_train, X_test, y_train, y_test = train_test_split(X, y, test_size=0.2, random_state=42)\n",
    "\n",
    "# Define a sequential model\n",
    "model = Sequential()\n",
    "\n",
    "# Add dense layers to the model\n",
    "model.add(Dense(32, input_dim=X_train.shape[1], activation='relu'))\n",
    "model.add(Dense(16, activation='relu'))\n",
    "model.add(Dense(y_train.shape[1], activation='softmax'))\n",
    "\n",
    "# Compile the model with categorical cross-entropy loss\n",
    "model.compile(loss=CategoricalCrossentropy(), optimizer='adam', metrics=['accuracy'])\n",
    "\n",
    "# Fit the model to the training data\n",
    "model.fit(X_train, y_train, epochs=6, batch_size=32, verbose=1)\n",
    "\n",
    "# Evaluate the model on the testing data\n",
    "loss, accuracy = model.evaluate(X_test, y_test, verbose=1)\n",
    "print(f'Test loss: {loss:.4f}\\nTest accuracy: {accuracy:.4f}')"
   ]
  },
  {
   "cell_type": "code",
   "execution_count": null,
   "metadata": {
    "id": "FjNKDLaC-RMk"
   },
   "outputs": [],
   "source": []
  }
 ],
 "metadata": {
  "colab": {
   "provenance": []
  },
  "kernelspec": {
   "display_name": "Python 3 (ipykernel)",
   "language": "python",
   "name": "python3"
  },
  "language_info": {
   "codemirror_mode": {
    "name": "ipython",
    "version": 3
   },
   "file_extension": ".py",
   "mimetype": "text/x-python",
   "name": "python",
   "nbconvert_exporter": "python",
   "pygments_lexer": "ipython3",
   "version": "3.9.13"
  }
 },
 "nbformat": 4,
 "nbformat_minor": 1
}
